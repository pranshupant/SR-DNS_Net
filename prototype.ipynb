{
 "metadata": {
  "language_info": {
   "codemirror_mode": {
    "name": "ipython",
    "version": 3
   },
   "file_extension": ".py",
   "mimetype": "text/x-python",
   "name": "python",
   "nbconvert_exporter": "python",
   "pygments_lexer": "ipython3",
   "version": "3.7.6-final"
  },
  "orig_nbformat": 2,
  "kernelspec": {
   "name": "python37664bitpytorchenvcondac65bc6c7ab474553ae2b82822152b36f",
   "display_name": "Python 3.7.6 64-bit ('pytorch_env': conda)",
   "language": "python"
  }
 },
 "nbformat": 4,
 "nbformat_minor": 2,
 "cells": [
  {
   "cell_type": "code",
   "execution_count": 3,
   "metadata": {},
   "outputs": [
    {
     "output_type": "stream",
     "name": "stdout",
     "text": [
      "[2 8 7 1 3 4 9 0 6 5]\n"
     ]
    }
   ],
   "source": [
    "import numpy as np\n",
    "print(np.random.permutation(10))"
   ]
  },
  {
   "cell_type": "code",
   "execution_count": 1,
   "metadata": {},
   "outputs": [],
   "source": [
    "from skimage.metrics import structural_similarity"
   ]
  },
  {
   "cell_type": "code",
   "execution_count": 5,
   "metadata": {},
   "outputs": [],
   "source": [
    "train = 40000\n",
    "dev = 1000\n",
    "test = 1000\n",
    "\n",
    "img_list = np.random.permutation(train+dev+test)"
   ]
  },
  {
   "cell_type": "code",
   "execution_count": 8,
   "metadata": {},
   "outputs": [
    {
     "output_type": "execute_result",
     "data": {
      "text/plain": [
       "1"
      ]
     },
     "metadata": {},
     "execution_count": 8
    }
   ],
   "source": [
    "i = (1, 3, 5)\n",
    "i[0]"
   ]
  },
  {
   "cell_type": "code",
   "execution_count": null,
   "metadata": {},
   "outputs": [],
   "source": [
    "import torch\n",
    "import torch.nn as nn\n",
    "import torch.nn.functional as F\n",
    "\n",
    "import torchvision.models as tmodels\n",
    "from functools import partial\n",
    "import collections\n",
    "\n",
    "# dummy data: 10 batches of images with batch size 16\n",
    "dataset = [torch.rand(16,3,224,224).cuda() for _ in range(10)]\n",
    "\n",
    "# network: a resnet50\n",
    "net = tmodels.resnet50(pretrained=True).cuda()\n",
    "\n",
    "# a dictionary that keeps saving the activations as they come\n",
    "activations = collections.defaultdict(list)\n",
    "def save_activation(name, mod, inp, out):\n",
    "\tactivations[name].append(out.cpu())\n",
    "\n",
    "# Registering hooks for all the Conv2d layers\n",
    "# Note: Hooks are called EVERY TIME the module performs a forward pass. For modules that are\n",
    "# called repeatedly at different stages of the forward pass (like RELUs), this will save different\n",
    "# activations. Editing the forward pass code to save activations is the way to go for these cases.\n",
    "for name, m in net.named_modules():\n",
    "\tif type(m)==nn.Conv2d:\n",
    "\t\t# partial to assign the layer name to each hook\n",
    "\t\tm.register_forward_hook(partial(save_activation, name))\n",
    "\n",
    "# forward pass through the full dataset\n",
    "for batch in dataset:\n",
    "\tout = net(batch)\n",
    "\n",
    "# concatenate all the outputs we saved to get the the activations for each layer for the whole dataset\n",
    "activations = {name: torch.cat(outputs, 0) for name, outputs in activations.items()}\n",
    "\n",
    "# just print out the sizes of the saved activations as a sanity check\n",
    "for k,v in activations.items():\n",
    "\tprint (k, v.size())"
   ]
  }
 ]
}